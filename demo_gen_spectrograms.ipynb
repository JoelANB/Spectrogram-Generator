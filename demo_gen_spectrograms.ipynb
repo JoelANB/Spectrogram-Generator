{
 "cells": [
  {
   "cell_type": "markdown",
   "metadata": {},
   "source": [
    "# Showing waveform and spectrograms of a sample recording\n",
    "\n",
    "references: \n",
    "\n",
    "https://stackoverflow.com/questions/44787437/how-to-convert-a-wav-file-to-a-spectrogram-in-python3\n",
    "\n",
    "Log transformation - https://www.kaggle.com/msripooja/steps-to-convert-audio-clip-to-spectrogram\n",
    "\n",
    "To view, make sure you have a sample file in the relative address \"./sample.wav\"\n"
   ]
  },
  {
   "cell_type": "code",
   "execution_count": null,
   "metadata": {},
   "outputs": [],
   "source": [
    "import matplotlib.pyplot as plt\n",
    "import librosa\n",
    "import librosa.display\n",
    "import numpy as np\n",
    "\n",
    "x, SAMPLE_RATE = librosa.load(\"./sample.wav\", sr=44100)\n",
    "FFT_NUM = 512\n",
    "IMG_SIZE = (14, 5)\n",
    "\n",
    "# show waveform of sample recording\n",
    "librosa.display.waveshow(x, sr=SAMPLE_RATE)\n",
    "\n",
    "X = librosa.stft(x, n_fft=FFT_NUM) # Apply fourier transform\n",
    "Xdb = librosa.amplitude_to_db(abs(X), ref=np.median) # Convert amplitude spectrogram to dB-scaled spec\n",
    "fig = plt.figure(figsize=IMG_SIZE) # Specify the size of the figure\n",
    "\n",
    "# show spectrogram of sample recording\n",
    "librosa.display.specshow(Xdb, cmap='gray_r', sr=SAMPLE_RATE, x_axis='time', y_axis='hz')\n",
    "plt.colorbar()\n",
    "\n",
    "# Redraw without the axis and colourbar\n",
    "fig = plt.figure(frameon=False)\n",
    "fig.set_size_inches(IMG_SIZE[0], IMG_SIZE[1])\n",
    "ax = plt.Axes(fig, [0., 0., 1., 1.])\n",
    "ax.set_axis_off()\n",
    "fig.add_axes(ax)\n",
    "librosa.display.specshow(Xdb, cmap='gray_r', sr=SAMPLE_RATE, x_axis='time', y_axis='hz')\n",
    "plt.imshow()\n",
    "\n",
    "#Saving the file\n",
    "fig.savefig(\"saved_spectrogram.png\")"
   ]
  }
 ],
 "metadata": {
  "language_info": {
   "name": "python"
  },
  "orig_nbformat": 4
 },
 "nbformat": 4,
 "nbformat_minor": 2
}

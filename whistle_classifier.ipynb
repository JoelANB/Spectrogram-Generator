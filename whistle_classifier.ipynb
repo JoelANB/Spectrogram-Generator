{
 "cells": [
  {
   "cell_type": "markdown",
   "metadata": {},
   "source": [
    "# Using CNN for dolphin whistle classification"
   ]
  },
  {
   "cell_type": "markdown",
   "metadata": {},
   "source": [
    "Import relevant packages. Set up the virtual environment as specified in the README file to avoid \"dependency-hell\"."
   ]
  },
  {
   "cell_type": "code",
   "execution_count": 2,
   "metadata": {},
   "outputs": [],
   "source": [
    "import matplotlib.pyplot as plt\n",
    "import numpy as np\n",
    "\n",
    "from tensorflow import keras\n",
    "from tensorflow.keras.preprocessing.image import ImageDataGenerator\n",
    "from keras.layers import BatchNormalization\n",
    "from keras.callbacks import EarlyStopping\n",
    "from tensorflow.keras import layers, models  # For specifying the type of layer (Dense)\n",
    "\n",
    "# from tensorflow.keras.models import Sequential\n",
    "\n",
    "from sklearn.metrics import classification_report\n",
    "from pathlib import Path\n"
   ]
  },
  {
   "cell_type": "code",
   "execution_count": null,
   "metadata": {},
   "outputs": [],
   "source": [
    "# os.chdir('D:/DolphinVIPFiles/DolphinVIPFiles/images_second_run')\n",
    "# os.getcwd()"
   ]
  },
  {
   "cell_type": "markdown",
   "metadata": {},
   "source": [
    "# Generate Training, Validation and Test Datasets\n",
    "Before running the following cell, change the relative paths to the folders on your machine.\n",
    "(Also make sure you have the data on your machine)"
   ]
  },
  {
   "cell_type": "code",
   "execution_count": 3,
   "metadata": {},
   "outputs": [],
   "source": [
    "TRAINING_DATA_DIR = Path(\"model_test_train/train\")\n",
    "TEST_DATA_DIR = Path(\"model_test_train/test\")"
   ]
  },
  {
   "cell_type": "code",
   "execution_count": 4,
   "metadata": {},
   "outputs": [
    {
     "ename": "FileNotFoundError",
     "evalue": "[Errno 2] No such file or directory: 'model_test_train/train'",
     "output_type": "error",
     "traceback": [
      "\u001b[0;31m---------------------------------------------------------------------------\u001b[0m",
      "\u001b[0;31mFileNotFoundError\u001b[0m                         Traceback (most recent call last)",
      "\u001b[1;32m/Users/matteohe/Desktop/DA/sem2/whistle_classifier.ipynb Cell 7'\u001b[0m in \u001b[0;36m<module>\u001b[0;34m\u001b[0m\n\u001b[1;32m      <a href='vscode-notebook-cell:/Users/matteohe/Desktop/DA/sem2/whistle_classifier.ipynb#ch0000006?line=2'>3</a>\u001b[0m IMAGE_SHAPE \u001b[39m=\u001b[39m (X, Y)\n\u001b[1;32m      <a href='vscode-notebook-cell:/Users/matteohe/Desktop/DA/sem2/whistle_classifier.ipynb#ch0000006?line=4'>5</a>\u001b[0m train_datagen \u001b[39m=\u001b[39m ImageDataGenerator(\n\u001b[1;32m      <a href='vscode-notebook-cell:/Users/matteohe/Desktop/DA/sem2/whistle_classifier.ipynb#ch0000006?line=5'>6</a>\u001b[0m     rescale\u001b[39m=\u001b[39m\u001b[39m1.0\u001b[39m \u001b[39m/\u001b[39m \u001b[39m255\u001b[39m, validation_split\u001b[39m=\u001b[39m\u001b[39m0.20\u001b[39m\n\u001b[1;32m      <a href='vscode-notebook-cell:/Users/matteohe/Desktop/DA/sem2/whistle_classifier.ipynb#ch0000006?line=6'>7</a>\u001b[0m )  \u001b[39m# https://stackoverflow.com/questions/42443936/keras-split-train-test-set-when-using-imagedatagenerator\u001b[39;00m\n\u001b[0;32m----> <a href='vscode-notebook-cell:/Users/matteohe/Desktop/DA/sem2/whistle_classifier.ipynb#ch0000006?line=8'>9</a>\u001b[0m train_generator \u001b[39m=\u001b[39m train_datagen\u001b[39m.\u001b[39;49mflow_from_directory(\n\u001b[1;32m     <a href='vscode-notebook-cell:/Users/matteohe/Desktop/DA/sem2/whistle_classifier.ipynb#ch0000006?line=9'>10</a>\u001b[0m     TRAINING_DATA_DIR, subset\u001b[39m=\u001b[39;49m\u001b[39m\"\u001b[39;49m\u001b[39mtraining\u001b[39;49m\u001b[39m\"\u001b[39;49m, shuffle\u001b[39m=\u001b[39;49m\u001b[39mTrue\u001b[39;49;00m, target_size\u001b[39m=\u001b[39;49mIMAGE_SHAPE\n\u001b[1;32m     <a href='vscode-notebook-cell:/Users/matteohe/Desktop/DA/sem2/whistle_classifier.ipynb#ch0000006?line=10'>11</a>\u001b[0m )\n\u001b[1;32m     <a href='vscode-notebook-cell:/Users/matteohe/Desktop/DA/sem2/whistle_classifier.ipynb#ch0000006?line=12'>13</a>\u001b[0m validation_generator \u001b[39m=\u001b[39m train_datagen\u001b[39m.\u001b[39mflow_from_directory(\n\u001b[1;32m     <a href='vscode-notebook-cell:/Users/matteohe/Desktop/DA/sem2/whistle_classifier.ipynb#ch0000006?line=13'>14</a>\u001b[0m     TRAINING_DATA_DIR, subset\u001b[39m=\u001b[39m\u001b[39m\"\u001b[39m\u001b[39mvalidation\u001b[39m\u001b[39m\"\u001b[39m, shuffle\u001b[39m=\u001b[39m\u001b[39mTrue\u001b[39;00m, target_size\u001b[39m=\u001b[39mIMAGE_SHAPE\n\u001b[1;32m     <a href='vscode-notebook-cell:/Users/matteohe/Desktop/DA/sem2/whistle_classifier.ipynb#ch0000006?line=14'>15</a>\u001b[0m )\n\u001b[1;32m     <a href='vscode-notebook-cell:/Users/matteohe/Desktop/DA/sem2/whistle_classifier.ipynb#ch0000006?line=16'>17</a>\u001b[0m test_generator \u001b[39m=\u001b[39m ImageDataGenerator(rescale\u001b[39m=\u001b[39m\u001b[39m1.0\u001b[39m \u001b[39m/\u001b[39m \u001b[39m255\u001b[39m)\u001b[39m.\u001b[39mflow_from_directory(\n\u001b[1;32m     <a href='vscode-notebook-cell:/Users/matteohe/Desktop/DA/sem2/whistle_classifier.ipynb#ch0000006?line=17'>18</a>\u001b[0m     TEST_DATA_DIR, shuffle\u001b[39m=\u001b[39m\u001b[39mTrue\u001b[39;00m, target_size\u001b[39m=\u001b[39mIMAGE_SHAPE\n\u001b[1;32m     <a href='vscode-notebook-cell:/Users/matteohe/Desktop/DA/sem2/whistle_classifier.ipynb#ch0000006?line=18'>19</a>\u001b[0m )\n",
      "File \u001b[0;32m~/Desktop/DA/sem2/dolphin/lib/python3.9/site-packages/keras/preprocessing/image.py:976\u001b[0m, in \u001b[0;36mImageDataGenerator.flow_from_directory\u001b[0;34m(self, directory, target_size, color_mode, classes, class_mode, batch_size, shuffle, seed, save_to_dir, save_prefix, save_format, follow_links, subset, interpolation)\u001b[0m\n\u001b[1;32m    <a href='file:///Users/matteohe/Desktop/DA/sem2/dolphin/lib/python3.9/site-packages/keras/preprocessing/image.py?line=897'>898</a>\u001b[0m \u001b[39mdef\u001b[39;00m \u001b[39mflow_from_directory\u001b[39m(\u001b[39mself\u001b[39m,\n\u001b[1;32m    <a href='file:///Users/matteohe/Desktop/DA/sem2/dolphin/lib/python3.9/site-packages/keras/preprocessing/image.py?line=898'>899</a>\u001b[0m                         directory,\n\u001b[1;32m    <a href='file:///Users/matteohe/Desktop/DA/sem2/dolphin/lib/python3.9/site-packages/keras/preprocessing/image.py?line=899'>900</a>\u001b[0m                         target_size\u001b[39m=\u001b[39m(\u001b[39m256\u001b[39m, \u001b[39m256\u001b[39m),\n\u001b[0;32m   (...)\u001b[0m\n\u001b[1;32m    <a href='file:///Users/matteohe/Desktop/DA/sem2/dolphin/lib/python3.9/site-packages/keras/preprocessing/image.py?line=910'>911</a>\u001b[0m                         subset\u001b[39m=\u001b[39m\u001b[39mNone\u001b[39;00m,\n\u001b[1;32m    <a href='file:///Users/matteohe/Desktop/DA/sem2/dolphin/lib/python3.9/site-packages/keras/preprocessing/image.py?line=911'>912</a>\u001b[0m                         interpolation\u001b[39m=\u001b[39m\u001b[39m'\u001b[39m\u001b[39mnearest\u001b[39m\u001b[39m'\u001b[39m):\n\u001b[1;32m    <a href='file:///Users/matteohe/Desktop/DA/sem2/dolphin/lib/python3.9/site-packages/keras/preprocessing/image.py?line=912'>913</a>\u001b[0m   \u001b[39m\"\"\"Takes the path to a directory & generates batches of augmented data.\u001b[39;00m\n\u001b[1;32m    <a href='file:///Users/matteohe/Desktop/DA/sem2/dolphin/lib/python3.9/site-packages/keras/preprocessing/image.py?line=913'>914</a>\u001b[0m \n\u001b[1;32m    <a href='file:///Users/matteohe/Desktop/DA/sem2/dolphin/lib/python3.9/site-packages/keras/preprocessing/image.py?line=914'>915</a>\u001b[0m \u001b[39m  Args:\u001b[39;00m\n\u001b[0;32m   (...)\u001b[0m\n\u001b[1;32m    <a href='file:///Users/matteohe/Desktop/DA/sem2/dolphin/lib/python3.9/site-packages/keras/preprocessing/image.py?line=973'>974</a>\u001b[0m \u001b[39m          and `y` is a numpy array of corresponding labels.\u001b[39;00m\n\u001b[1;32m    <a href='file:///Users/matteohe/Desktop/DA/sem2/dolphin/lib/python3.9/site-packages/keras/preprocessing/image.py?line=974'>975</a>\u001b[0m \u001b[39m  \"\"\"\u001b[39;00m\n\u001b[0;32m--> <a href='file:///Users/matteohe/Desktop/DA/sem2/dolphin/lib/python3.9/site-packages/keras/preprocessing/image.py?line=975'>976</a>\u001b[0m   \u001b[39mreturn\u001b[39;00m DirectoryIterator(\n\u001b[1;32m    <a href='file:///Users/matteohe/Desktop/DA/sem2/dolphin/lib/python3.9/site-packages/keras/preprocessing/image.py?line=976'>977</a>\u001b[0m       directory,\n\u001b[1;32m    <a href='file:///Users/matteohe/Desktop/DA/sem2/dolphin/lib/python3.9/site-packages/keras/preprocessing/image.py?line=977'>978</a>\u001b[0m       \u001b[39mself\u001b[39;49m,\n\u001b[1;32m    <a href='file:///Users/matteohe/Desktop/DA/sem2/dolphin/lib/python3.9/site-packages/keras/preprocessing/image.py?line=978'>979</a>\u001b[0m       target_size\u001b[39m=\u001b[39;49mtarget_size,\n\u001b[1;32m    <a href='file:///Users/matteohe/Desktop/DA/sem2/dolphin/lib/python3.9/site-packages/keras/preprocessing/image.py?line=979'>980</a>\u001b[0m       color_mode\u001b[39m=\u001b[39;49mcolor_mode,\n\u001b[1;32m    <a href='file:///Users/matteohe/Desktop/DA/sem2/dolphin/lib/python3.9/site-packages/keras/preprocessing/image.py?line=980'>981</a>\u001b[0m       classes\u001b[39m=\u001b[39;49mclasses,\n\u001b[1;32m    <a href='file:///Users/matteohe/Desktop/DA/sem2/dolphin/lib/python3.9/site-packages/keras/preprocessing/image.py?line=981'>982</a>\u001b[0m       class_mode\u001b[39m=\u001b[39;49mclass_mode,\n\u001b[1;32m    <a href='file:///Users/matteohe/Desktop/DA/sem2/dolphin/lib/python3.9/site-packages/keras/preprocessing/image.py?line=982'>983</a>\u001b[0m       data_format\u001b[39m=\u001b[39;49m\u001b[39mself\u001b[39;49m\u001b[39m.\u001b[39;49mdata_format,\n\u001b[1;32m    <a href='file:///Users/matteohe/Desktop/DA/sem2/dolphin/lib/python3.9/site-packages/keras/preprocessing/image.py?line=983'>984</a>\u001b[0m       batch_size\u001b[39m=\u001b[39;49mbatch_size,\n\u001b[1;32m    <a href='file:///Users/matteohe/Desktop/DA/sem2/dolphin/lib/python3.9/site-packages/keras/preprocessing/image.py?line=984'>985</a>\u001b[0m       shuffle\u001b[39m=\u001b[39;49mshuffle,\n\u001b[1;32m    <a href='file:///Users/matteohe/Desktop/DA/sem2/dolphin/lib/python3.9/site-packages/keras/preprocessing/image.py?line=985'>986</a>\u001b[0m       seed\u001b[39m=\u001b[39;49mseed,\n\u001b[1;32m    <a href='file:///Users/matteohe/Desktop/DA/sem2/dolphin/lib/python3.9/site-packages/keras/preprocessing/image.py?line=986'>987</a>\u001b[0m       save_to_dir\u001b[39m=\u001b[39;49msave_to_dir,\n\u001b[1;32m    <a href='file:///Users/matteohe/Desktop/DA/sem2/dolphin/lib/python3.9/site-packages/keras/preprocessing/image.py?line=987'>988</a>\u001b[0m       save_prefix\u001b[39m=\u001b[39;49msave_prefix,\n\u001b[1;32m    <a href='file:///Users/matteohe/Desktop/DA/sem2/dolphin/lib/python3.9/site-packages/keras/preprocessing/image.py?line=988'>989</a>\u001b[0m       save_format\u001b[39m=\u001b[39;49msave_format,\n\u001b[1;32m    <a href='file:///Users/matteohe/Desktop/DA/sem2/dolphin/lib/python3.9/site-packages/keras/preprocessing/image.py?line=989'>990</a>\u001b[0m       follow_links\u001b[39m=\u001b[39;49mfollow_links,\n\u001b[1;32m    <a href='file:///Users/matteohe/Desktop/DA/sem2/dolphin/lib/python3.9/site-packages/keras/preprocessing/image.py?line=990'>991</a>\u001b[0m       subset\u001b[39m=\u001b[39;49msubset,\n\u001b[1;32m    <a href='file:///Users/matteohe/Desktop/DA/sem2/dolphin/lib/python3.9/site-packages/keras/preprocessing/image.py?line=991'>992</a>\u001b[0m       interpolation\u001b[39m=\u001b[39;49minterpolation)\n",
      "File \u001b[0;32m~/Desktop/DA/sem2/dolphin/lib/python3.9/site-packages/keras/preprocessing/image.py:394\u001b[0m, in \u001b[0;36mDirectoryIterator.__init__\u001b[0;34m(self, directory, image_data_generator, target_size, color_mode, classes, class_mode, batch_size, shuffle, seed, data_format, save_to_dir, save_prefix, save_format, follow_links, subset, interpolation, dtype)\u001b[0m\n\u001b[1;32m    <a href='file:///Users/matteohe/Desktop/DA/sem2/dolphin/lib/python3.9/site-packages/keras/preprocessing/image.py?line=391'>392</a>\u001b[0m     dtype \u001b[39m=\u001b[39m backend\u001b[39m.\u001b[39mfloatx()\n\u001b[1;32m    <a href='file:///Users/matteohe/Desktop/DA/sem2/dolphin/lib/python3.9/site-packages/keras/preprocessing/image.py?line=392'>393</a>\u001b[0m   kwargs[\u001b[39m'\u001b[39m\u001b[39mdtype\u001b[39m\u001b[39m'\u001b[39m] \u001b[39m=\u001b[39m dtype\n\u001b[0;32m--> <a href='file:///Users/matteohe/Desktop/DA/sem2/dolphin/lib/python3.9/site-packages/keras/preprocessing/image.py?line=393'>394</a>\u001b[0m \u001b[39msuper\u001b[39;49m(DirectoryIterator, \u001b[39mself\u001b[39;49m)\u001b[39m.\u001b[39;49m\u001b[39m__init__\u001b[39;49m(\n\u001b[1;32m    <a href='file:///Users/matteohe/Desktop/DA/sem2/dolphin/lib/python3.9/site-packages/keras/preprocessing/image.py?line=394'>395</a>\u001b[0m     directory, image_data_generator,\n\u001b[1;32m    <a href='file:///Users/matteohe/Desktop/DA/sem2/dolphin/lib/python3.9/site-packages/keras/preprocessing/image.py?line=395'>396</a>\u001b[0m     target_size\u001b[39m=\u001b[39;49mtarget_size,\n\u001b[1;32m    <a href='file:///Users/matteohe/Desktop/DA/sem2/dolphin/lib/python3.9/site-packages/keras/preprocessing/image.py?line=396'>397</a>\u001b[0m     color_mode\u001b[39m=\u001b[39;49mcolor_mode,\n\u001b[1;32m    <a href='file:///Users/matteohe/Desktop/DA/sem2/dolphin/lib/python3.9/site-packages/keras/preprocessing/image.py?line=397'>398</a>\u001b[0m     classes\u001b[39m=\u001b[39;49mclasses,\n\u001b[1;32m    <a href='file:///Users/matteohe/Desktop/DA/sem2/dolphin/lib/python3.9/site-packages/keras/preprocessing/image.py?line=398'>399</a>\u001b[0m     class_mode\u001b[39m=\u001b[39;49mclass_mode,\n\u001b[1;32m    <a href='file:///Users/matteohe/Desktop/DA/sem2/dolphin/lib/python3.9/site-packages/keras/preprocessing/image.py?line=399'>400</a>\u001b[0m     batch_size\u001b[39m=\u001b[39;49mbatch_size,\n\u001b[1;32m    <a href='file:///Users/matteohe/Desktop/DA/sem2/dolphin/lib/python3.9/site-packages/keras/preprocessing/image.py?line=400'>401</a>\u001b[0m     shuffle\u001b[39m=\u001b[39;49mshuffle,\n\u001b[1;32m    <a href='file:///Users/matteohe/Desktop/DA/sem2/dolphin/lib/python3.9/site-packages/keras/preprocessing/image.py?line=401'>402</a>\u001b[0m     seed\u001b[39m=\u001b[39;49mseed,\n\u001b[1;32m    <a href='file:///Users/matteohe/Desktop/DA/sem2/dolphin/lib/python3.9/site-packages/keras/preprocessing/image.py?line=402'>403</a>\u001b[0m     data_format\u001b[39m=\u001b[39;49mdata_format,\n\u001b[1;32m    <a href='file:///Users/matteohe/Desktop/DA/sem2/dolphin/lib/python3.9/site-packages/keras/preprocessing/image.py?line=403'>404</a>\u001b[0m     save_to_dir\u001b[39m=\u001b[39;49msave_to_dir,\n\u001b[1;32m    <a href='file:///Users/matteohe/Desktop/DA/sem2/dolphin/lib/python3.9/site-packages/keras/preprocessing/image.py?line=404'>405</a>\u001b[0m     save_prefix\u001b[39m=\u001b[39;49msave_prefix,\n\u001b[1;32m    <a href='file:///Users/matteohe/Desktop/DA/sem2/dolphin/lib/python3.9/site-packages/keras/preprocessing/image.py?line=405'>406</a>\u001b[0m     save_format\u001b[39m=\u001b[39;49msave_format,\n\u001b[1;32m    <a href='file:///Users/matteohe/Desktop/DA/sem2/dolphin/lib/python3.9/site-packages/keras/preprocessing/image.py?line=406'>407</a>\u001b[0m     follow_links\u001b[39m=\u001b[39;49mfollow_links,\n\u001b[1;32m    <a href='file:///Users/matteohe/Desktop/DA/sem2/dolphin/lib/python3.9/site-packages/keras/preprocessing/image.py?line=407'>408</a>\u001b[0m     subset\u001b[39m=\u001b[39;49msubset,\n\u001b[1;32m    <a href='file:///Users/matteohe/Desktop/DA/sem2/dolphin/lib/python3.9/site-packages/keras/preprocessing/image.py?line=408'>409</a>\u001b[0m     interpolation\u001b[39m=\u001b[39;49minterpolation,\n\u001b[1;32m    <a href='file:///Users/matteohe/Desktop/DA/sem2/dolphin/lib/python3.9/site-packages/keras/preprocessing/image.py?line=409'>410</a>\u001b[0m     \u001b[39m*\u001b[39;49m\u001b[39m*\u001b[39;49mkwargs)\n",
      "File \u001b[0;32m~/Desktop/DA/sem2/dolphin/lib/python3.9/site-packages/keras_preprocessing/image/directory_iterator.py:115\u001b[0m, in \u001b[0;36mDirectoryIterator.__init__\u001b[0;34m(self, directory, image_data_generator, target_size, color_mode, classes, class_mode, batch_size, shuffle, seed, data_format, save_to_dir, save_prefix, save_format, follow_links, subset, interpolation, dtype)\u001b[0m\n\u001b[1;32m    <a href='file:///Users/matteohe/Desktop/DA/sem2/dolphin/lib/python3.9/site-packages/keras_preprocessing/image/directory_iterator.py?line=112'>113</a>\u001b[0m \u001b[39mif\u001b[39;00m \u001b[39mnot\u001b[39;00m classes:\n\u001b[1;32m    <a href='file:///Users/matteohe/Desktop/DA/sem2/dolphin/lib/python3.9/site-packages/keras_preprocessing/image/directory_iterator.py?line=113'>114</a>\u001b[0m     classes \u001b[39m=\u001b[39m []\n\u001b[0;32m--> <a href='file:///Users/matteohe/Desktop/DA/sem2/dolphin/lib/python3.9/site-packages/keras_preprocessing/image/directory_iterator.py?line=114'>115</a>\u001b[0m     \u001b[39mfor\u001b[39;00m subdir \u001b[39min\u001b[39;00m \u001b[39msorted\u001b[39m(os\u001b[39m.\u001b[39;49mlistdir(directory)):\n\u001b[1;32m    <a href='file:///Users/matteohe/Desktop/DA/sem2/dolphin/lib/python3.9/site-packages/keras_preprocessing/image/directory_iterator.py?line=115'>116</a>\u001b[0m         \u001b[39mif\u001b[39;00m os\u001b[39m.\u001b[39mpath\u001b[39m.\u001b[39misdir(os\u001b[39m.\u001b[39mpath\u001b[39m.\u001b[39mjoin(directory, subdir)):\n\u001b[1;32m    <a href='file:///Users/matteohe/Desktop/DA/sem2/dolphin/lib/python3.9/site-packages/keras_preprocessing/image/directory_iterator.py?line=116'>117</a>\u001b[0m             classes\u001b[39m.\u001b[39mappend(subdir)\n",
      "\u001b[0;31mFileNotFoundError\u001b[0m: [Errno 2] No such file or directory: 'model_test_train/train'"
     ]
    }
   ],
   "source": [
    "# These can be configured differently\n",
    "X, Y = 413, 202\n",
    "IMAGE_SHAPE = (Y, X) # (row, col) format for imshow and (height, width) for ImageDataGenerator\n",
    "\n",
    "train_datagen = ImageDataGenerator(\n",
    "    rescale=1.0 / 255, validation_split=0.20\n",
    ")  # https://stackoverflow.com/questions/42443936/keras-split-train-test-set-when-using-imagedatagenerator\n",
    "\n",
    "train_generator = train_datagen.flow_from_directory(\n",
    "    TRAINING_DATA_DIR, subset=\"training\", shuffle=True, target_size=IMAGE_SHAPE\n",
    ")\n",
    "\n",
    "validation_generator = train_datagen.flow_from_directory(\n",
    "    TRAINING_DATA_DIR, subset=\"validation\", shuffle=True, target_size=IMAGE_SHAPE\n",
    ")\n",
    "\n",
    "test_generator = ImageDataGenerator(rescale=1.0 / 255).flow_from_directory(\n",
    "    TEST_DATA_DIR, shuffle=True, target_size=IMAGE_SHAPE\n",
    ")"
   ]
  },
  {
   "cell_type": "markdown",
   "metadata": {},
   "source": [
    "# Visualise the inputs"
   ]
  },
  {
   "cell_type": "code",
   "execution_count": 1,
   "metadata": {},
   "outputs": [
    {
     "ename": "NameError",
     "evalue": "name 'train_generator' is not defined",
     "output_type": "error",
     "traceback": [
      "\u001b[0;31m---------------------------------------------------------------------------\u001b[0m",
      "\u001b[0;31mNameError\u001b[0m                                 Traceback (most recent call last)",
      "\u001b[1;32m/Users/matteohe/Desktop/DA/sem2/whistle_classifier.ipynb Cell 9'\u001b[0m in \u001b[0;36m<module>\u001b[0;34m\u001b[0m\n\u001b[1;32m      <a href='vscode-notebook-cell:/Users/matteohe/Desktop/DA/sem2/whistle_classifier.ipynb#ch0000008?line=0'>1</a>\u001b[0m \u001b[39m# Visualise the datasets\u001b[39;00m\n\u001b[0;32m----> <a href='vscode-notebook-cell:/Users/matteohe/Desktop/DA/sem2/whistle_classifier.ipynb#ch0000008?line=1'>2</a>\u001b[0m images \u001b[39m=\u001b[39m \u001b[39miter\u001b[39m(train_generator[\u001b[39m0\u001b[39m][\u001b[39m0\u001b[39m])\n\u001b[1;32m      <a href='vscode-notebook-cell:/Users/matteohe/Desktop/DA/sem2/whistle_classifier.ipynb#ch0000008?line=2'>3</a>\u001b[0m labels \u001b[39m=\u001b[39m \u001b[39miter\u001b[39m(train_generator[\u001b[39m0\u001b[39m][\u001b[39m1\u001b[39m])\n\u001b[1;32m      <a href='vscode-notebook-cell:/Users/matteohe/Desktop/DA/sem2/whistle_classifier.ipynb#ch0000008?line=4'>5</a>\u001b[0m classes \u001b[39m=\u001b[39m \u001b[39mdict\u001b[39m((v, k) \u001b[39mfor\u001b[39;00m k, v \u001b[39min\u001b[39;00m (train_generator\u001b[39m.\u001b[39mclass_indices)\u001b[39m.\u001b[39mitems())\n",
      "\u001b[0;31mNameError\u001b[0m: name 'train_generator' is not defined"
     ]
    }
   ],
   "source": [
    "# Visualise the datasets\n",
    "images = iter(train_generator[0][0])\n",
    "labels = iter(train_generator[0][1])\n",
    "\n",
    "classes = dict((v, k) for k, v in (train_generator.class_indices).items())\n",
    "\n",
    "fig, ax = plt.subplots(2, 2, figsize=(7, 5))\n",
    "for sp in ax.reshape(-1):\n",
    "    sp.set_xticks([])\n",
    "    sp.set_yticks([])\n",
    "    sp.imshow(next(images), aspect=\"auto\")\n",
    "    label_index = np.where(next(labels) == 1)[0][0]\n",
    "    sp.set_xlabel(classes.get(label_index))\n",
    "plt.show()\n",
    "fig.savefig(\"image.pdf\")\n",
    "print(\"Shape of images: \", train_generator[0][0].shape)"
   ]
  },
  {
   "cell_type": "markdown",
   "metadata": {},
   "source": [
    "# Build a CNN model and stack layers"
   ]
  },
  {
   "cell_type": "code",
   "execution_count": 15,
   "metadata": {},
   "outputs": [
    {
     "name": "stdout",
     "output_type": "stream",
     "text": [
      "Model: \"sequential_2\"\n",
      "_________________________________________________________________\n",
      " Layer (type)                Output Shape              Param #   \n",
      "=================================================================\n",
      " conv2d_6 (Conv2D)           (None, 411, 200, 16)      448       \n",
      "                                                                 \n",
      " batch_normalization_8 (Batc  (None, 411, 200, 16)     64        \n",
      " hNormalization)                                                 \n",
      "                                                                 \n",
      " max_pooling2d_4 (MaxPooling  (None, 205, 100, 16)     0         \n",
      " 2D)                                                             \n",
      "                                                                 \n",
      " conv2d_7 (Conv2D)           (None, 203, 98, 16)       2320      \n",
      "                                                                 \n",
      " batch_normalization_9 (Batc  (None, 203, 98, 16)      64        \n",
      " hNormalization)                                                 \n",
      "                                                                 \n",
      " max_pooling2d_5 (MaxPooling  (None, 101, 49, 16)      0         \n",
      " 2D)                                                             \n",
      "                                                                 \n",
      " conv2d_8 (Conv2D)           (None, 99, 47, 16)        2320      \n",
      "                                                                 \n",
      " batch_normalization_10 (Bat  (None, 99, 47, 16)       64        \n",
      " chNormalization)                                                \n",
      "                                                                 \n",
      " flatten_2 (Flatten)         (None, 74448)             0         \n",
      "                                                                 \n",
      " dense_4 (Dense)             (None, 64)                4764736   \n",
      "                                                                 \n",
      " batch_normalization_11 (Bat  (None, 64)               256       \n",
      " chNormalization)                                                \n",
      "                                                                 \n",
      " dense_5 (Dense)             (None, 3)                 195       \n",
      "                                                                 \n",
      "=================================================================\n",
      "Total params: 4,770,467\n",
      "Trainable params: 4,770,243\n",
      "Non-trainable params: 224\n",
      "_________________________________________________________________\n"
     ]
    }
   ],
   "source": [
    "model = models.Sequential()\n",
    "KERNEL_SIZE = (3, 3)\n",
    "INPUT_SHAPE = (X, Y, 3)\n",
    "\n",
    "model.add(layers.Conv2D(16, KERNEL_SIZE, activation=\"relu\", input_shape=INPUT_SHAPE))\n",
    "model.add(layers.BatchNormalization())\n",
    "model.add(layers.MaxPooling2D(pool_size=(2, 2)))\n",
    "model.add(layers.Conv2D(16, (3, 3), activation=\"relu\"))\n",
    "model.add(BatchNormalization())\n",
    "model.add(layers.MaxPooling2D((2, 2)))\n",
    "model.add(layers.Conv2D(16, (3, 3), activation=\"relu\"))\n",
    "model.add(BatchNormalization())\n",
    "\n",
    "# Adding fully connected layers\n",
    "model.add(layers.Flatten())  # From a 3D tensor to a 1D\n",
    "model.add(layers.Dense(64, activation=\"relu\"))\n",
    "model.add(BatchNormalization())\n",
    "model.add(layers.Dense(3, activation=\"softmax\"))\n",
    "\n",
    "model.summary()\n"
   ]
  },
  {
   "cell_type": "markdown",
   "metadata": {},
   "source": [
    "# Train the model"
   ]
  },
  {
   "cell_type": "code",
   "execution_count": 16,
   "metadata": {},
   "outputs": [
    {
     "name": "stdout",
     "output_type": "stream",
     "text": [
      "[INFO] compiling model...\n",
      "[INFO] training network for 3 epochs...\n",
      "Epoch 1/3\n",
      "60/60 [==============================] - 61s 992ms/step - loss: 1.0189 - accuracy: 0.5958 - val_loss: 1.0836 - val_accuracy: 0.3625\n",
      "Epoch 2/3\n",
      "60/60 [==============================] - 60s 1s/step - loss: 0.4904 - accuracy: 0.8365 - val_loss: 1.1795 - val_accuracy: 0.3354\n",
      "Epoch 3/3\n",
      "60/60 [==============================] - 60s 1s/step - loss: 0.1674 - accuracy: 0.9609 - val_loss: 1.6505 - val_accuracy: 0.3354\n"
     ]
    }
   ],
   "source": [
    "# Initialising the model\n",
    "print(\"[INFO] compiling model...\")\n",
    "model.compile(\n",
    "    optimizer=\"adam\", loss=\"categorical_crossentropy\", metrics=[\"accuracy\"]\n",
    ")  # can play with different parameters\n",
    "\n",
    "STEP_SIZE_TRAIN = train_generator.n // train_generator.batch_size\n",
    "STEP_SIZE_VALID = validation_generator.n // validation_generator.batch_size\n",
    "NUM_EPOCHS = 3\n",
    "es = EarlyStopping(\"val_loss\", mode=\"min\", verbose=1, patience=5)\n",
    "\n",
    "# Training the network\n",
    "print(\"[INFO] training network for {} epochs...\".format(NUM_EPOCHS))\n",
    "history = model.fit(\n",
    "    train_generator,\n",
    "    steps_per_epoch=STEP_SIZE_TRAIN,\n",
    "    validation_data=validation_generator,\n",
    "    validation_steps=STEP_SIZE_VALID,\n",
    "    epochs=NUM_EPOCHS,\n",
    "    callbacks=[es],\n",
    ")\n"
   ]
  },
  {
   "cell_type": "markdown",
   "metadata": {},
   "source": [
    "# Evaluating the Network"
   ]
  },
  {
   "cell_type": "markdown",
   "metadata": {},
   "source": [
    "**Validation and training accuracy:**"
   ]
  },
  {
   "cell_type": "code",
   "execution_count": 17,
   "metadata": {},
   "outputs": [
    {
     "name": "stdout",
     "output_type": "stream",
     "text": [
      "[INFO] evaluating network...\n",
      "19/19 - 6s - loss: 1.6827 - accuracy: 0.3333 - 6s/epoch - 300ms/step\n",
      "----- Evaluation Summary statistics -----\n",
      "Test accuracy =  0.3333333432674408\n",
      "Test loss =  1.6827266216278076\n"
     ]
    },
    {
     "data": {
      "image/png": "[encoded data removed]",
      "text/plain": [
       "<Figure size 432x288 with 1 Axes>"
      ]
     },
     "metadata": {
      "needs_background": "light"
     },
     "output_type": "display_data"
    }
   ],
   "source": [
    "# Evalutate the network - use validation set\n",
    "print(\"[INFO] evaluating network...\")\n",
    "\n",
    "plt.plot(history.history[\"accuracy\"], label=\"accuracy\")\n",
    "plt.plot(history.history[\"val_accuracy\"], label=\"val_accuracy\")\n",
    "plt.xlabel(\"Epoch\")\n",
    "plt.ylabel(\"Accuracy\")\n",
    "plt.ylim([0, 1])\n",
    "plt.title(\"Validation and Training accuracy\")\n",
    "plt.legend(loc=\"lower right\")\n",
    "\n",
    "test_loss, test_acc = model.evaluate(\n",
    "    test_generator, verbose=2\n",
    ")  # Check the return values for this\n",
    "\n",
    "# SUMMARY STATISTICS\n",
    "print(\"----- Evaluation Summary statistics -----\")\n",
    "print(\"Test accuracy = \", test_acc)\n",
    "print(\"Test loss = \", test_loss)\n"
   ]
  },
  {
   "cell_type": "markdown",
   "metadata": {},
   "source": [
    "**Validation and Training Loss:**"
   ]
  },
  {
   "cell_type": "code",
   "execution_count": 18,
   "metadata": {},
   "outputs": [
    {
     "data": {
      "text/plain": [
       "<matplotlib.legend.Legend at 0x15fb76970>"
      ]
     },
     "execution_count": 18,
     "metadata": {},
     "output_type": "execute_result"
    },
    {
     "data": {
      "image/png": "[encoded data removed]",
      "text/plain": [
       "<Figure size 432x288 with 1 Axes>"
      ]
     },
     "metadata": {
      "needs_background": "light"
     },
     "output_type": "display_data"
    }
   ],
   "source": [
    "plt.plot(history.history[\"loss\"], label=\"Training loss\")\n",
    "plt.plot(history.history[\"val_loss\"], label=\"Validation loss\")\n",
    "plt.title(\"Validation and Training loss\")\n",
    "plt.xlabel(\"Epoch\")\n",
    "plt.ylabel(\"Accuracy\")\n",
    "# plt.ylim([0, 1])\n",
    "plt.legend()\n"
   ]
  },
  {
   "cell_type": "code",
   "execution_count": 19,
   "metadata": {},
   "outputs": [
    {
     "name": "stdout",
     "output_type": "stream",
     "text": [
      "[INFO] Predict with network...\n",
      "              precision    recall  f1-score   support\n",
      "\n",
      "  bottlenose       0.33      0.96      0.49       200\n",
      "      common       0.40      0.04      0.07       200\n",
      "melon-headed       1.00      0.01      0.01       200\n",
      "\n",
      "    accuracy                           0.34       600\n",
      "   macro avg       0.58      0.33      0.19       600\n",
      "weighted avg       0.58      0.34      0.19       600\n",
      "\n"
     ]
    }
   ],
   "source": [
    "print(\"[INFO] Predict with network...\")\n",
    "model = keras.models.load_model(\"10_02_2022_basic_classifier.model\")\n",
    "test_generator.reset()\n",
    "test_labels = test_generator.classes\n",
    "array_of_class_names = np.array(list(classes.values()))\n",
    "y_hat = model.predict(test_generator)\n",
    "print(\n",
    "    classification_report(\n",
    "        test_labels, y_hat.argmax(axis=1), target_names=array_of_class_names\n",
    "    )\n",
    ")\n"
   ]
  },
  {
   "cell_type": "markdown",
   "metadata": {},
   "source": [
    "# Save or load model"
   ]
  },
  {
   "cell_type": "code",
   "execution_count": null,
   "metadata": {},
   "outputs": [],
   "source": [
    "# Save the trained model -> could save just the weights or the entire architecture\n",
    "model.save('10_02_2022_basic_classifier.model')\n",
    "# loaded_model = keras.models.load_model('/content/drive/MyDrive/16_03_2021_basic_classifier.model')"
   ]
  }
 ],
 "metadata": {
  "interpreter": {
   "hash": "2095d8fafee06d6eda80f440969be72fcf850039ccc5b044496e51994bf5fd0a"
  },
  "kernelspec": {
   "display_name": "Python 3.9.5 ('dolphin': venv)",
   "language": "python",
   "name": "python3"
  },
  "language_info": {
   "codemirror_mode": {
    "name": "ipython",
    "version": 3
   },
   "file_extension": ".py",
   "mimetype": "text/x-python",
   "name": "python",
   "nbconvert_exporter": "python",
   "pygments_lexer": "ipython3",
   "version": "3.9.5"
  },
  "orig_nbformat": 4
 },
 "nbformat": 4,
 "nbformat_minor": 2
}
